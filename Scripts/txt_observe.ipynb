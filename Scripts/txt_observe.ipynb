{
 "cells": [
  {
   "cell_type": "code",
   "execution_count": 10,
   "outputs": [
    {
     "name": "stdout",
     "output_type": "stream",
     "text": [
      "Event Date - 12\n",
      "App Name - 2\n",
      "Subscription Name - 15\n",
      "Subscription Duration - 4\n",
      "Introductory Price Type - 1\n",
      "Introductory Price Duration - 2\n",
      "Customer Currency - 45\n",
      "Proceeds Currency - 45\n",
      "Preserved Pricing - 1\n",
      "Proceeds Reason - 1\n",
      "Client - 1\n",
      "Device - 3\n",
      "Country - 114\n",
      "Subscriber ID Reset - 1\n",
      "Refund - 1\n",
      "Purchase Date - 54\n"
     ]
    }
   ],
   "source": [
    "import pandas as pd\n",
    "import os\n",
    "\n",
    "data: pd.DataFrame\n",
    "\n",
    "filenames = os.listdir('../reports/')\n",
    "data = pd.read_csv(f'../reports/{filenames[0]}', sep='\\t')\n",
    "for i in range(len(filenames)):\n",
    "    if i == 0:\n",
    "        continue\n",
    "    else:\n",
    "        data = pd.concat([data, pd.read_csv(f'../reports/{filenames[i]}', sep='\\t')])\n",
    "\n",
    "for column in data.select_dtypes(['object']):\n",
    "    print(f'{column} - {data[column].nunique()}')"
   ],
   "metadata": {
    "collapsed": false,
    "pycharm": {
     "name": "#%%\n"
    }
   }
  },
  {
   "cell_type": "code",
   "execution_count": 14,
   "outputs": [
    {
     "data": {
      "text/plain": "['App Names',\n 'Subscription Names',\n 'Subscription Durations',\n 'Currencies',\n 'Devices',\n 'Countries']"
     },
     "execution_count": 14,
     "metadata": {},
     "output_type": "execute_result"
    }
   ],
   "source": [
    "separate_tables = ['App Names', 'Subscription Names', 'Subscription Durations', 'Currencies', 'Devices', 'Countries']\n",
    "separate_tables"
   ],
   "metadata": {
    "collapsed": false,
    "pycharm": {
     "name": "#%%\n"
    }
   }
  },
  {
   "cell_type": "code",
   "execution_count": 126,
   "outputs": [
    {
     "data": {
      "text/plain": "     Event Date                       App Name  App Apple ID  \\\n0    2019-02-04  BetterMe: Yoga for Weightloss    1398851503   \n1    2019-02-04  BetterMe: Calm,Sleep,Meditate    1363010081   \n2    2019-02-05  BetterMe: Yoga for Weightloss    1398851503   \n3    2019-02-04  BetterMe: Yoga for Weightloss    1398851503   \n4    2019-02-04  BetterMe: Calm,Sleep,Meditate    1363010081   \n..          ...                            ...           ...   \n776  2019-02-07  BetterMe: Calm,Sleep,Meditate    1363010081   \n777  2019-02-07  BetterMe: Yoga for Weightloss    1398851503   \n778  2019-02-07  BetterMe: Calm,Sleep,Meditate    1363010081   \n779  2019-02-07  BetterMe: Yoga for Weightloss    1398851503   \n780  2019-02-07  BetterMe: Calm,Sleep,Meditate    1363010081   \n\n                     Subscription Name  Subscription Apple ID  \\\n0              6-month subscription 54             1447369566   \n1          6-month subscription, 53.99             1429863868   \n2              6-month subscription 54             1447369566   \n3              6-month subscription 54             1447369566   \n4    monthly subscription v2.1.3, 9.99             1391745601   \n..                                 ...                    ...   \n776   6-month subscription v2.0, 41.99             1373728235   \n777            6-month subscription 54             1447369566   \n778        6-month subscription, 53.99             1429863868   \n779  monthly subscription, v.1.1, 9.99             1412730712   \n780        6-month subscription, 53.99             1429863868   \n\n     Subscription Group ID Subscription Duration Introductory Price Type  \\\n0                 20461416              6 Months                     NaN   \n1                 20449027              6 Months                     NaN   \n2                 20461416              6 Months                     NaN   \n3                 20461416              6 Months              Free Trial   \n4                 20449027               1 Month                     NaN   \n..                     ...                   ...                     ...   \n776               20449027              6 Months                     NaN   \n777               20461416              6 Months                     NaN   \n778               20449027              6 Months                     NaN   \n779               20461416               1 Month                     NaN   \n780               20449027              6 Months                     NaN   \n\n    Introductory Price Duration  Marketing Opt-In Duration  ...  \\\n0                           NaN                        NaN  ...   \n1                           NaN                        NaN  ...   \n2                           NaN                        NaN  ...   \n3                        7 Days                        NaN  ...   \n4                           NaN                        NaN  ...   \n..                          ...                        ...  ...   \n776                         NaN                        NaN  ...   \n777                         NaN                        NaN  ...   \n778                         NaN                        NaN  ...   \n779                         NaN                        NaN  ...   \n780                         NaN                        NaN  ...   \n\n     Preserved Pricing Proceeds Reason  Client  Device Country  \\\n0                                               iPhone      US   \n1                                               iPhone      US   \n2                                               iPhone      US   \n3                                               iPhone      US   \n4                                               iPhone      SG   \n..                 ...             ...     ...     ...     ...   \n776                                             iPhone      BR   \n777                                             iPhone      US   \n778                                             iPhone      US   \n779                                             iPhone      US   \n780                                             iPhone      ZA   \n\n       Subscriber ID Subscriber ID Reset Refund Purchase Date  Units  \n0    490203766419131                 NaN    NaN           NaN      1  \n1    679227409994408                 NaN    NaN           NaN      1  \n2    476263031459784                 NaN    NaN           NaN      1  \n3    553184040864527                 NaN    NaN           NaN      1  \n4    462339523951930                 NaN    NaN           NaN      1  \n..               ...                 ...    ...           ...    ...  \n776  273317679497879                 NaN    NaN           NaN      1  \n777  266334380886723                 NaN    NaN           NaN      1  \n778  784212282935356                 NaN    NaN           NaN      1  \n779  609283720730344                 NaN    NaN           NaN      1  \n780  595326516373290                 NaN    NaN           NaN      1  \n\n[7718 rows x 24 columns]",
      "text/html": "<div>\n<style scoped>\n    .dataframe tbody tr th:only-of-type {\n        vertical-align: middle;\n    }\n\n    .dataframe tbody tr th {\n        vertical-align: top;\n    }\n\n    .dataframe thead th {\n        text-align: right;\n    }\n</style>\n<table border=\"1\" class=\"dataframe\">\n  <thead>\n    <tr style=\"text-align: right;\">\n      <th></th>\n      <th>Event Date</th>\n      <th>App Name</th>\n      <th>App Apple ID</th>\n      <th>Subscription Name</th>\n      <th>Subscription Apple ID</th>\n      <th>Subscription Group ID</th>\n      <th>Subscription Duration</th>\n      <th>Introductory Price Type</th>\n      <th>Introductory Price Duration</th>\n      <th>Marketing Opt-In Duration</th>\n      <th>...</th>\n      <th>Preserved Pricing</th>\n      <th>Proceeds Reason</th>\n      <th>Client</th>\n      <th>Device</th>\n      <th>Country</th>\n      <th>Subscriber ID</th>\n      <th>Subscriber ID Reset</th>\n      <th>Refund</th>\n      <th>Purchase Date</th>\n      <th>Units</th>\n    </tr>\n  </thead>\n  <tbody>\n    <tr>\n      <th>0</th>\n      <td>2019-02-04</td>\n      <td>BetterMe: Yoga for Weightloss</td>\n      <td>1398851503</td>\n      <td>6-month subscription 54</td>\n      <td>1447369566</td>\n      <td>20461416</td>\n      <td>6 Months</td>\n      <td>NaN</td>\n      <td>NaN</td>\n      <td>NaN</td>\n      <td>...</td>\n      <td></td>\n      <td></td>\n      <td></td>\n      <td>iPhone</td>\n      <td>US</td>\n      <td>490203766419131</td>\n      <td>NaN</td>\n      <td>NaN</td>\n      <td>NaN</td>\n      <td>1</td>\n    </tr>\n    <tr>\n      <th>1</th>\n      <td>2019-02-04</td>\n      <td>BetterMe: Calm,Sleep,Meditate</td>\n      <td>1363010081</td>\n      <td>6-month subscription, 53.99</td>\n      <td>1429863868</td>\n      <td>20449027</td>\n      <td>6 Months</td>\n      <td>NaN</td>\n      <td>NaN</td>\n      <td>NaN</td>\n      <td>...</td>\n      <td></td>\n      <td></td>\n      <td></td>\n      <td>iPhone</td>\n      <td>US</td>\n      <td>679227409994408</td>\n      <td>NaN</td>\n      <td>NaN</td>\n      <td>NaN</td>\n      <td>1</td>\n    </tr>\n    <tr>\n      <th>2</th>\n      <td>2019-02-05</td>\n      <td>BetterMe: Yoga for Weightloss</td>\n      <td>1398851503</td>\n      <td>6-month subscription 54</td>\n      <td>1447369566</td>\n      <td>20461416</td>\n      <td>6 Months</td>\n      <td>NaN</td>\n      <td>NaN</td>\n      <td>NaN</td>\n      <td>...</td>\n      <td></td>\n      <td></td>\n      <td></td>\n      <td>iPhone</td>\n      <td>US</td>\n      <td>476263031459784</td>\n      <td>NaN</td>\n      <td>NaN</td>\n      <td>NaN</td>\n      <td>1</td>\n    </tr>\n    <tr>\n      <th>3</th>\n      <td>2019-02-04</td>\n      <td>BetterMe: Yoga for Weightloss</td>\n      <td>1398851503</td>\n      <td>6-month subscription 54</td>\n      <td>1447369566</td>\n      <td>20461416</td>\n      <td>6 Months</td>\n      <td>Free Trial</td>\n      <td>7 Days</td>\n      <td>NaN</td>\n      <td>...</td>\n      <td></td>\n      <td></td>\n      <td></td>\n      <td>iPhone</td>\n      <td>US</td>\n      <td>553184040864527</td>\n      <td>NaN</td>\n      <td>NaN</td>\n      <td>NaN</td>\n      <td>1</td>\n    </tr>\n    <tr>\n      <th>4</th>\n      <td>2019-02-04</td>\n      <td>BetterMe: Calm,Sleep,Meditate</td>\n      <td>1363010081</td>\n      <td>monthly subscription v2.1.3, 9.99</td>\n      <td>1391745601</td>\n      <td>20449027</td>\n      <td>1 Month</td>\n      <td>NaN</td>\n      <td>NaN</td>\n      <td>NaN</td>\n      <td>...</td>\n      <td></td>\n      <td></td>\n      <td></td>\n      <td>iPhone</td>\n      <td>SG</td>\n      <td>462339523951930</td>\n      <td>NaN</td>\n      <td>NaN</td>\n      <td>NaN</td>\n      <td>1</td>\n    </tr>\n    <tr>\n      <th>...</th>\n      <td>...</td>\n      <td>...</td>\n      <td>...</td>\n      <td>...</td>\n      <td>...</td>\n      <td>...</td>\n      <td>...</td>\n      <td>...</td>\n      <td>...</td>\n      <td>...</td>\n      <td>...</td>\n      <td>...</td>\n      <td>...</td>\n      <td>...</td>\n      <td>...</td>\n      <td>...</td>\n      <td>...</td>\n      <td>...</td>\n      <td>...</td>\n      <td>...</td>\n      <td>...</td>\n    </tr>\n    <tr>\n      <th>776</th>\n      <td>2019-02-07</td>\n      <td>BetterMe: Calm,Sleep,Meditate</td>\n      <td>1363010081</td>\n      <td>6-month subscription v2.0, 41.99</td>\n      <td>1373728235</td>\n      <td>20449027</td>\n      <td>6 Months</td>\n      <td>NaN</td>\n      <td>NaN</td>\n      <td>NaN</td>\n      <td>...</td>\n      <td></td>\n      <td></td>\n      <td></td>\n      <td>iPhone</td>\n      <td>BR</td>\n      <td>273317679497879</td>\n      <td>NaN</td>\n      <td>NaN</td>\n      <td>NaN</td>\n      <td>1</td>\n    </tr>\n    <tr>\n      <th>777</th>\n      <td>2019-02-07</td>\n      <td>BetterMe: Yoga for Weightloss</td>\n      <td>1398851503</td>\n      <td>6-month subscription 54</td>\n      <td>1447369566</td>\n      <td>20461416</td>\n      <td>6 Months</td>\n      <td>NaN</td>\n      <td>NaN</td>\n      <td>NaN</td>\n      <td>...</td>\n      <td></td>\n      <td></td>\n      <td></td>\n      <td>iPhone</td>\n      <td>US</td>\n      <td>266334380886723</td>\n      <td>NaN</td>\n      <td>NaN</td>\n      <td>NaN</td>\n      <td>1</td>\n    </tr>\n    <tr>\n      <th>778</th>\n      <td>2019-02-07</td>\n      <td>BetterMe: Calm,Sleep,Meditate</td>\n      <td>1363010081</td>\n      <td>6-month subscription, 53.99</td>\n      <td>1429863868</td>\n      <td>20449027</td>\n      <td>6 Months</td>\n      <td>NaN</td>\n      <td>NaN</td>\n      <td>NaN</td>\n      <td>...</td>\n      <td></td>\n      <td></td>\n      <td></td>\n      <td>iPhone</td>\n      <td>US</td>\n      <td>784212282935356</td>\n      <td>NaN</td>\n      <td>NaN</td>\n      <td>NaN</td>\n      <td>1</td>\n    </tr>\n    <tr>\n      <th>779</th>\n      <td>2019-02-07</td>\n      <td>BetterMe: Yoga for Weightloss</td>\n      <td>1398851503</td>\n      <td>monthly subscription, v.1.1, 9.99</td>\n      <td>1412730712</td>\n      <td>20461416</td>\n      <td>1 Month</td>\n      <td>NaN</td>\n      <td>NaN</td>\n      <td>NaN</td>\n      <td>...</td>\n      <td></td>\n      <td></td>\n      <td></td>\n      <td>iPhone</td>\n      <td>US</td>\n      <td>609283720730344</td>\n      <td>NaN</td>\n      <td>NaN</td>\n      <td>NaN</td>\n      <td>1</td>\n    </tr>\n    <tr>\n      <th>780</th>\n      <td>2019-02-07</td>\n      <td>BetterMe: Calm,Sleep,Meditate</td>\n      <td>1363010081</td>\n      <td>6-month subscription, 53.99</td>\n      <td>1429863868</td>\n      <td>20449027</td>\n      <td>6 Months</td>\n      <td>NaN</td>\n      <td>NaN</td>\n      <td>NaN</td>\n      <td>...</td>\n      <td></td>\n      <td></td>\n      <td></td>\n      <td>iPhone</td>\n      <td>ZA</td>\n      <td>595326516373290</td>\n      <td>NaN</td>\n      <td>NaN</td>\n      <td>NaN</td>\n      <td>1</td>\n    </tr>\n  </tbody>\n</table>\n<p>7718 rows × 24 columns</p>\n</div>"
     },
     "execution_count": 126,
     "metadata": {},
     "output_type": "execute_result"
    }
   ],
   "source": [
    "data"
   ],
   "metadata": {
    "collapsed": false,
    "pycharm": {
     "name": "#%%\n"
    }
   }
  },
  {
   "cell_type": "code",
   "execution_count": 81,
   "outputs": [
    {
     "name": "stdout",
     "output_type": "stream",
     "text": [
      "INSERT INTO public.APP_NAMES(APP_NAME) VALUES ('BetterMe: Yoga for Weightloss')\n",
      "INSERT INTO public.APP_NAMES(APP_NAME) VALUES ('BetterMe: Calm,Sleep,Meditate')\n"
     ]
    }
   ],
   "source": [
    "for app_name in data['App Name'].unique():\n",
    "    print(f'''INSERT INTO public.APP_NAMES(APP_NAME) VALUES ('{app_name}')''')"
   ],
   "metadata": {
    "collapsed": false,
    "pycharm": {
     "name": "#%%\n"
    }
   }
  },
  {
   "cell_type": "code",
   "execution_count": null,
   "outputs": [],
   "source": [
    "'''\n",
    "CREATE TABLE APP_NAMES (APP_ID SERIAL PRIMARY KEY, APP_NAME VARCHAR(100) NOT NULL);\n",
    "CREATE TABLE SUBSCRIPTION_NAMES (SUBSCRIPTION_ID SERIAL PRIMARY KEY, SUBSCRIPTION_NAME VARCHAR(100) NOT NULL);\n",
    "CREATE TABLE SUBSCRIPTION_DURATIONS (DURATION_ID SERIAL PRIMARY KEY, SUBSCRIPTION_DURATION VARCHAR(100) NOT NULL);\n",
    "CREATE TABLE Currencies (CURRENCY_ID SERIAL PRIMARY KEY, CURRENCY VARCHAR(100) NOT NULL);\n",
    "CREATE TABLE DEVICES (DEVICE_ID SERIAL PRIMARY KEY, DEVICE VARCHAR(100) NOT NULL);\n",
    "CREATE TABLE COUNTRIES (COUNTRY_ID SERIAL PRIMARY KEY, COUNTRY VARCHAR(100) NOT NULL);\n",
    "CREATE TABLE BOOLEAN_VALUES (VALUE_ID SERIAL, BOOLEAN_VALUE VARCHAR(10))\n",
    "\n",
    "CREATE TABLE REPORTS (REPORT_ID SERIAL PRIMARY KEY, EVENT_DATE DATE,\n",
    "                      APP_ID SERIAL, APP_APPLE_ID SERIAL, CONSTRAINT app_id_fk FOREIGN KEY(APP_ID) REFERENCES APP_NAMES(APP_ID),\n",
    "                      SUBSCRIPTION_ID SERIAL, SUBSCRIPTION_APPLE_ID SERIAL, CONSTRAINT SUBSCRIPTION_ID_fk FOREIGN KEY(SUBSCRIPTION_ID) REFERENCES SUBSCRIPTION_NAMES(SUBSCRIPTION_ID), SUBSCRIPTION_GROUP_ID SERIAL,\n",
    "                      DURATION_ID SERIAL, INTRODUCTORY_PRICE_TYPE VARCHAR(100), CONSTRAINT DURATION_ID_fk FOREIGN KEY(DURATION_ID) REFERENCES SUBSCRIPTION_DURATIONS(DURATION_ID), INTRODUCTORY_PRICE_DURATION VARCHAR(100),\n",
    "                      Marketing_Opt_In_Duration FLOAT(8), Customer_Price FLOAT(8), Customer_Currency_ID SERIAL,\n",
    "                      Developer_Proceeds VARCHAR(100), Proceeds_Currency_ID SERIAL, CONSTRAINT Customer_Currency_ID_fk FOREIGN KEY(Customer_Currency_ID) REFERENCES Currencies(Currency_ID), CONSTRAINT Proceeds_Currency_ID_fk FOREIGN KEY(Proceeds_Currency_ID) REFERENCES Currencies(Currency_ID), Preserved_Pricing VARCHAR(100),\n",
    "                       Proceeds_Reason VARCHAR(100), Client VARCHAR(100), Device_ID SERIAL, CONSTRAINT DEVICE_ID_fk FOREIGN KEY(DEVICE_ID) REFERENCES DEVICES(DEVICE_ID), COUNTRY_ID SERIAL, CONSTRAINT COUNTRY_ID_fk FOREIGN KEY(COUNTRY_ID) REFERENCES COUNTRIES(COUNTRY_ID),\n",
    "                        Subscriber_ID SERIAL, Subscriber_ID_RESET VARCHAR(100),\n",
    "                        REFUND_ID SERIAL, CONSTRAINT REFUND_ID_fk FOREIGN KEY(REFUND_ID) REFERENCES BOOLEAN_VALUES(REFUND_ID),\n",
    "                        PURCHASE_DATE DATE, UNITS SERIAL)\n",
    "'''"
   ],
   "metadata": {
    "collapsed": false,
    "pycharm": {
     "name": "#%%\n"
    }
   }
  },
  {
   "cell_type": "code",
   "execution_count": 74,
   "outputs": [
    {
     "data": {
      "text/plain": "array(['BetterMe: Yoga for Weightloss', 'BetterMe: Calm,Sleep,Meditate'],\n      dtype=object)"
     },
     "execution_count": 74,
     "metadata": {},
     "output_type": "execute_result"
    }
   ],
   "source": [
    "data['App Name'].unique()"
   ],
   "metadata": {
    "collapsed": false,
    "pycharm": {
     "name": "#%%\n"
    }
   }
  },
  {
   "cell_type": "code",
   "execution_count": 34,
   "outputs": [
    {
     "data": {
      "text/plain": "1    6 Months\nName: Subscription Duration, dtype: object"
     },
     "execution_count": 34,
     "metadata": {},
     "output_type": "execute_result"
    }
   ],
   "source": [
    "data.loc[data['Subscriber ID'] == 679227409994408, 'Subscription Duration']"
   ],
   "metadata": {
    "collapsed": false,
    "pycharm": {
     "name": "#%%\n"
    }
   }
  },
  {
   "cell_type": "code",
   "execution_count": 36,
   "outputs": [
    {
     "data": {
      "text/plain": "462354086905153    5\n224363393655060    4\n434351891361404    3\n273364807179214    3\n588329649050341    3\n                  ..\n560339362185626    2\n574321150558927    2\n539232397628458    2\n595304639808699    2\n462355740729738    2\nName: Subscriber ID, Length: 783, dtype: int64"
     },
     "execution_count": 36,
     "metadata": {},
     "output_type": "execute_result"
    }
   ],
   "source": [
    "data['Subscriber ID'].value_counts()[data['Subscriber ID'].value_counts() > 1]\n",
    "\n",
    "select distinct\n",
    "# select * from apple_reports where subscriber_id in (select subscriber_id from apple_reports group by subscriber_id having count(subscriber_id) > 1)"
   ],
   "metadata": {
    "collapsed": false,
    "pycharm": {
     "name": "#%%\n"
    }
   }
  },
  {
   "cell_type": "code",
   "execution_count": 68,
   "outputs": [
    {
     "data": {
      "text/plain": "[616247887660764, 511289848519620, 504334126324562]"
     },
     "execution_count": 68,
     "metadata": {},
     "output_type": "execute_result"
    }
   ],
   "source": [
    "first_trial_users = data.loc[\n",
    "                            data['Subscriber ID'].isin(data.loc[\n",
    "                                                           (data['Introductory Price Type'] == 'Free Trial') &\n",
    "                                                           (data['App Apple ID'] == 1398851503) &\n",
    "                                                           (data['Event Date'] == '2019-02-10'),\n",
    "                                                           'Subscriber ID']),\n",
    "                            'Subscriber ID']\n",
    "ids = first_trial_users.value_counts()[first_trial_users.value_counts() > 1].index.tolist()\n",
    "ids"
   ],
   "metadata": {
    "collapsed": false,
    "pycharm": {
     "name": "#%%\n"
    }
   }
  },
  {
   "cell_type": "code",
   "execution_count": 131,
   "outputs": [
    {
     "data": {
      "text/plain": "2019-02-10    998\n2019-02-01    873\n2019-02-07    799\n2019-02-05    769\n2019-02-06    738\n2019-02-09    737\n2019-02-02    726\n2019-02-08    702\n2019-02-04    693\n2019-02-03    654\n2019-02-11     25\n2019-01-29      4\nName: Event Date, dtype: int64"
     },
     "execution_count": 131,
     "metadata": {},
     "output_type": "execute_result"
    }
   ],
   "source": [
    "data['Event Date'].value_counts()"
   ],
   "metadata": {
    "collapsed": false,
    "pycharm": {
     "name": "#%%\n"
    }
   }
  },
  {
   "cell_type": "code",
   "execution_count": 72,
   "outputs": [
    {
     "data": {
      "text/plain": "0.0045385779122541605"
     },
     "execution_count": 72,
     "metadata": {},
     "output_type": "execute_result"
    }
   ],
   "source": [
    "3 / first_trial_users.index.unique().shape[0]"
   ],
   "metadata": {
    "collapsed": false,
    "pycharm": {
     "name": "#%%\n"
    }
   }
  },
  {
   "cell_type": "code",
   "execution_count": null,
   "outputs": [],
   "source": [
    "REPORT_ID EVENT_DATE APP_ID APP_APPLE_ID SUBSCRIPTION_ID SUBSCRIPTION_APPLE_ID SUBSCRIPTION_GROUP_ID DURATION_ID INTRODUCTORY_PRICE_TYPE INTRODUCTORY_PRICE_DURATION Marketing_Opt_In_Duration\n",
    "Customer_Price Customer_Currency_ID Developer_Proceeds Proceeds_Currency_ID Preserved_Pricing Proceeds_Reason Client Device_ID COUNTRY_ID Subscriber_ID Subscriber_ID_RESET REFUND_ID\n",
    "PURCHASE_DATE UNITS"
   ],
   "metadata": {
    "collapsed": false,
    "pycharm": {
     "name": "#%%\n"
    }
   }
  },
  {
   "cell_type": "code",
   "execution_count": 86,
   "outputs": [
    {
     "data": {
      "text/plain": "'REPORT_ID\", \"EVENT_DATE\", \"APP_ID\", \"APP_APPLE_ID\", \"SUBSCRIPTION_ID\", \"SUBSCRIPTION_APPLE_ID\", \"SUBSCRIPTION_GROUP_ID\", \"DURATION_ID\", \"INTRODUCTORY_PRICE_TYPE\", \"INTRODUCTORY_PRICE_DURATION\", \"Marketing_Opt_In_Duration\", \"Customer_Price\", \"Customer_Currency_ID\", \"Developer_Proceeds\", \"Proceeds_Currency_ID\", \"Preserved_Pricing\", \"Proceeds_Reason\", \"Client\", \"Device_ID\", \"COUNTRY_ID\", \"Subscriber_ID\", \"Subscriber_ID_RESET\", \"REFUND_ID\", \"PURCHASE_DATE\", \"UNITS'"
     },
     "execution_count": 86,
     "metadata": {},
     "output_type": "execute_result"
    }
   ],
   "source": [
    "'\", \"'.join(input().split(' '))"
   ],
   "metadata": {
    "collapsed": false,
    "pycharm": {
     "name": "#%%\n"
    }
   }
  },
  {
   "cell_type": "code",
   "execution_count": 107,
   "outputs": [
    {
     "data": {
      "text/plain": "{'EVENT_DATE': 'Event Date',\n 'APP_ID': 'App Name',\n 'APP_APPLE_ID': 'App Apple ID',\n 'SUBSCRIPTION_ID': 'Subscription Name',\n 'SUBSCRIPTION_APPLE_ID': 'Subscription Apple ID',\n 'SUBSCRIPTION_GROUP_ID': 'Subscription Group ID',\n 'DURATION_ID': 'Subscription Duration',\n 'INTRODUCTORY_PRICE_TYPE': 'Introductory Price Type',\n 'INTRODUCTORY_PRICE_DURATION': 'Introductory Price Duration',\n 'Marketing_Opt_In_Duration': 'Marketing Opt-In Duration',\n 'Customer_Price': 'Customer Price',\n 'Customer_Currency_ID': 'Customer Currency',\n 'Developer_Proceeds': 'Developer Proceeds',\n 'Proceeds_Currency_ID': 'Proceeds Currency',\n 'Preserved_Pricing': 'Preserved Pricing',\n 'Proceeds_Reason': 'Proceeds Reason',\n 'Client': 'Client',\n 'Device_ID': 'Device',\n 'COUNTRY_ID': 'Country',\n 'Subscriber_ID': 'Subscriber ID',\n 'Subscriber_ID_RESET': 'Subscriber ID Reset',\n 'REFUND_ID': 'Refund',\n 'PURCHASE_DATE': 'Purchase Date',\n 'UNITS': 'Units'}"
     },
     "execution_count": 107,
     "metadata": {},
     "output_type": "execute_result"
    }
   ],
   "source": [
    "{k : v for (k, v) in dict(zip([f\"{i}\" for i in open('log_columns', 'r').read().split(' ')],\n",
    "          ['report_id'] + data.columns.tolist())).items() if k != 'REPORT_ID'\n",
    " }"
   ],
   "metadata": {
    "collapsed": false,
    "pycharm": {
     "name": "#%%\n"
    }
   }
  },
  {
   "cell_type": "code",
   "execution_count": 122,
   "outputs": [
    {
     "data": {
      "text/plain": "(7718, 24)"
     },
     "execution_count": 122,
     "metadata": {},
     "output_type": "execute_result"
    }
   ],
   "source": [
    "data.shape"
   ],
   "metadata": {
    "collapsed": false,
    "pycharm": {
     "name": "#%%\n"
    }
   }
  },
  {
   "cell_type": "code",
   "execution_count": 105,
   "outputs": [
    {
     "data": {
      "text/plain": "Empty DataFrame\nColumns: [app_id, app_name]\nIndex: []",
      "text/html": "<div>\n<style scoped>\n    .dataframe tbody tr th:only-of-type {\n        vertical-align: middle;\n    }\n\n    .dataframe tbody tr th {\n        vertical-align: top;\n    }\n\n    .dataframe thead th {\n        text-align: right;\n    }\n</style>\n<table border=\"1\" class=\"dataframe\">\n  <thead>\n    <tr style=\"text-align: right;\">\n      <th></th>\n      <th>app_id</th>\n      <th>app_name</th>\n    </tr>\n  </thead>\n  <tbody>\n  </tbody>\n</table>\n</div>"
     },
     "execution_count": 105,
     "metadata": {},
     "output_type": "execute_result"
    }
   ],
   "source": [
    "from sqlalchemy import text, create_engine\n",
    "\n",
    "user = 'habrpguser'\n",
    "password = 'pgpwd'\n",
    "host = 'localhost'\n",
    "port = 5432\n",
    "database = 'BetterMeTest'\n",
    "\n",
    "\n",
    "def get_connection(u, pwd, h, p, d):\n",
    "    return create_engine(\n",
    "        url=\"postgresql://{0}:{1}@{2}:{3}/{4}\".format(\n",
    "            u, pwd, h, p, d\n",
    "        )\n",
    "    )\n",
    "engine = get_connection(user, password, host, port, database)\n",
    "pd.read_sql('SELECT * FROM public.APP_NAMES', engine)"
   ],
   "metadata": {
    "collapsed": false,
    "pycharm": {
     "name": "#%%\n"
    }
   }
  },
  {
   "cell_type": "code",
   "execution_count": 108,
   "outputs": [
    {
     "data": {
      "text/plain": "0      US\n1      US\n2      US\n3      US\n4      SG\n       ..\n776    BR\n777    US\n778    US\n779    US\n780    ZA\nName: Country, Length: 7718, dtype: object"
     },
     "execution_count": 108,
     "metadata": {},
     "output_type": "execute_result"
    }
   ],
   "source": [
    "data['Country']"
   ],
   "metadata": {
    "collapsed": false,
    "pycharm": {
     "name": "#%%\n"
    }
   }
  },
  {
   "cell_type": "code",
   "execution_count": 109,
   "outputs": [
    {
     "data": {
      "text/plain": "0       \n1       \n2       \n3       \n4       \n      ..\n776     \n777     \n778     \n779     \n780     \nName: Client, Length: 7718, dtype: object"
     },
     "execution_count": 109,
     "metadata": {},
     "output_type": "execute_result"
    }
   ],
   "source": [
    "data['Client']"
   ],
   "metadata": {
    "collapsed": false,
    "pycharm": {
     "name": "#%%\n"
    }
   }
  },
  {
   "cell_type": "code",
   "execution_count": 112,
   "outputs": [
    {
     "data": {
      "text/plain": "{'EVENT_DATE': 'Event Date',\n 'APP_ID': 'App Name',\n 'APP_APPLE_ID': 'App Apple ID',\n 'SUBSCRIPTION_ID': 'Subscription Name',\n 'SUBSCRIPTION_APPLE_ID': 'Subscription Apple ID',\n 'SUBSCRIPTION_GROUP_ID': 'Subscription Group ID',\n 'DURATION_ID': 'Subscription Duration',\n 'INTRODUCTORY_PRICE_TYPE': 'Introductory Price Type',\n 'INTRODUCTORY_PRICE_DURATION': 'Introductory Price Duration',\n 'Marketing_Opt_In_Duration': 'Marketing Opt-In Duration',\n 'Customer_Price': 'Customer Price',\n 'Customer_Currency_ID': 'Customer Currency',\n 'Developer_Proceeds': 'Developer Proceeds',\n 'Proceeds_Currency_ID': 'Proceeds Currency',\n 'Preserved_Pricing': 'Preserved Pricing',\n 'Proceeds_Reason': 'Proceeds Reason',\n 'Client': 'Client',\n 'Device_ID': 'Device',\n 'COUNTRY_ID': 'Country',\n 'Subscriber_ID': 'Subscriber ID',\n 'Subscriber_ID_RESET': 'Subscriber ID Reset',\n 'REFUND_ID': 'Refund',\n 'PURCHASE_DATE': 'Purchase Date',\n 'UNITS': 'Units'}"
     },
     "execution_count": 112,
     "metadata": {},
     "output_type": "execute_result"
    }
   ],
   "source": [
    "{k: v for (k, v) in dict(zip(\n",
    "                    [f\"{i}\" for i in open('log_columns', 'r').read().split(' ')],\n",
    "                    ['report_id'] + data.columns.tolist())).items() if k != 'REPORT_ID'\n",
    "                             }"
   ],
   "metadata": {
    "collapsed": false,
    "pycharm": {
     "name": "#%%\n"
    }
   }
  },
  {
   "cell_type": "code",
   "execution_count": 116,
   "outputs": [
    {
     "data": {
      "text/plain": "NaN    7275\nYes     443\nName: Refund, dtype: int64"
     },
     "execution_count": 116,
     "metadata": {},
     "output_type": "execute_result"
    }
   ],
   "source": [
    "data['Refund'].value_counts(dropna=False)"
   ],
   "metadata": {
    "collapsed": false,
    "pycharm": {
     "name": "#%%\n"
    }
   }
  },
  {
   "cell_type": "code",
   "execution_count": 121,
   "outputs": [
    {
     "data": {
      "text/plain": "2    3\nName: app_id, dtype: int64"
     },
     "execution_count": 121,
     "metadata": {},
     "output_type": "execute_result"
    }
   ],
   "source": [
    "import numpy as np\n",
    "\n",
    "df = pd.DataFrame({'app_id' : [1, 2, 3], 'App' : [1, 2, np.nan]})\n",
    "df.loc[(df['App'] == 'nan') | (df['App'].isna()), 'app_id']"
   ],
   "metadata": {
    "collapsed": false,
    "pycharm": {
     "name": "#%%\n"
    }
   }
  },
  {
   "cell_type": "code",
   "execution_count": 123,
   "outputs": [
    {
     "data": {
      "text/plain": "(7718, 24)"
     },
     "execution_count": 123,
     "metadata": {},
     "output_type": "execute_result"
    }
   ],
   "source": [
    "data.shape"
   ],
   "metadata": {
    "collapsed": false,
    "pycharm": {
     "name": "#%%\n"
    }
   }
  }
 ],
 "metadata": {
  "kernelspec": {
   "display_name": "Python 3",
   "language": "python",
   "name": "python3"
  },
  "language_info": {
   "codemirror_mode": {
    "name": "ipython",
    "version": 2
   },
   "file_extension": ".py",
   "mimetype": "text/x-python",
   "name": "python",
   "nbconvert_exporter": "python",
   "pygments_lexer": "ipython2",
   "version": "2.7.6"
  }
 },
 "nbformat": 4,
 "nbformat_minor": 0
}